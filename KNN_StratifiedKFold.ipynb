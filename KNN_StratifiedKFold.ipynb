{
 "cells": [
  {
   "cell_type": "code",
   "execution_count": 7,
   "metadata": {},
   "outputs": [],
   "source": [
    "#This project presents two options for testing data splitting through the \"StratifiedKFold\" method and using KNN Sklearn\n",
    "import pandas as pd\n",
    "from sklearn.metrics import accuracy_score\n",
    "from sklearn import model_selection\n",
    "from sklearn.model_selection import cross_val_score\n",
    "from sklearn.neighbors import KNeighborsClassifier\n",
    "from sklearn.model_selection import StratifiedKFold"
   ]
  },
  {
   "cell_type": "code",
   "execution_count": 2,
   "metadata": {},
   "outputs": [],
   "source": [
    "comprar_alquilar = pd.read_csv(r\"C:\\Users\\RosaS\\Desktop\\Datasets_Limpios\\comprar_alquilar.csv\")\n",
    "comprar_alquilar_df=comprar_alquilar.iloc[:,0:8].values\n",
    "comprar_alquilar_y=comprar_alquilar.iloc[:,9].values\n",
    "comprar_alquilar_names=[\"ingresos\",\"gastos_comunes\",\"pago_coche\",\"gastos_otros\",\"ahorros\",\"vivienda\",\"estado_civil\",\"hijos\",\"trabajo\"]\n",
    "comprar_alquilar_target_names=[\"0\",\"1\"]"
   ]
  },
  {
   "cell_type": "code",
   "execution_count": 41,
   "metadata": {},
   "outputs": [],
   "source": [
    "def meanAccuracy(fold_accuracy):\n",
    "    accuracy=fold_accuracy.mean()\n",
    "    print(\"\\n Accuracy: %.2f%%\" % (accuracy*100.0))\n",
    "    print(\"Total error_rate: %.2f%% \\n\" % ((1 - accuracy)*100))"
   ]
  },
  {
   "cell_type": "code",
   "execution_count": 45,
   "metadata": {},
   "outputs": [],
   "source": [
    "#==== First Option \n",
    "\n",
    "def split_LeaveOneOut_firstOption():\n",
    "    X = comprar_alquilar_df\n",
    "    y = comprar_alquilar_y\n",
    "    KNN= KNeighborsClassifier(7)\n",
    "\n",
    "    \n",
    "    print(\"----------------- StratifiedKFold -------\\n\")\n",
    "    cv = StratifiedKFold(n_splits=10)\n",
    "    results_skfold = model_selection.cross_val_score(KNN,X, y,cv=cv)\n",
    "    print(\"Split results: \\n\" ,results_skfold)\n",
    "    print(meanAccuracy(results_skfold))"
   ]
  },
  {
   "cell_type": "code",
   "execution_count": 46,
   "metadata": {
    "scrolled": false
   },
   "outputs": [
    {
     "name": "stdout",
     "output_type": "stream",
     "text": [
      "\n",
      "=====================    Dataset :  comprar_alquilar====================\n",
      "\n",
      "----------------- StratifiedKFold -------\n",
      "\n",
      "Split results: \n",
      " [0.66666667 0.76190476 0.8        0.9        0.65       0.65\n",
      " 0.85       0.85       0.85       0.7       ]\n",
      "\n",
      " Accuracy: 76.79%\n",
      "Total error_rate: 23.21% \n",
      "\n",
      "None\n"
     ]
    }
   ],
   "source": [
    "def main():\n",
    "    print(\"\\n=====================    Dataset :  comprar_alquilar====================\\n\")\n",
    "    \n",
    "    split_LeaveOneOut_firstOption()\n",
    "main()"
   ]
  }
 ],
 "metadata": {
  "kernelspec": {
   "display_name": "Python 3",
   "language": "python",
   "name": "python3"
  },
  "language_info": {
   "codemirror_mode": {
    "name": "ipython",
    "version": 3
   },
   "file_extension": ".py",
   "mimetype": "text/x-python",
   "name": "python",
   "nbconvert_exporter": "python",
   "pygments_lexer": "ipython3",
   "version": "3.8.5"
  }
 },
 "nbformat": 4,
 "nbformat_minor": 2
}
