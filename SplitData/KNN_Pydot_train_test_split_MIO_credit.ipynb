{
 "cells": [
  {
   "cell_type": "code",
   "execution_count": 1,
   "metadata": {},
   "outputs": [],
   "source": [
    "#!pip install pyod \n",
    "from pyod.models.knn import KNN\n",
    "from pyod.utils.data import generate_data\n",
    "from pyod.utils.data import evaluate_print\n",
    "from pyod.utils.example import visualize"
   ]
  },
  {
   "cell_type": "code",
   "execution_count": 2,
   "metadata": {},
   "outputs": [],
   "source": [
    "import pandas as pd\n",
    "from sklearn.preprocessing import MinMaxScaler\n",
    "from sklearn.model_selection import train_test_split\n",
    "import datetime\n",
    "\n",
    "dt = pd.read_csv(r\"C:\\Users\\RosaS\\Desktop\\PRACTICAR ANOMALIAS\\DataSetsPracticaAnomalias\\creditcard.csv\")\n",
    "y = dt['Class']\n",
    "x = dt.drop(['Class'], axis=1)"
   ]
  },
  {
   "cell_type": "code",
   "execution_count": 3,
   "metadata": {},
   "outputs": [],
   "source": [
    "X_train, X_test, y_train, y_test = train_test_split(x, y,train_size=0.60,test_size=0.40, random_state = 20)\n",
    "scaler = MinMaxScaler()\n",
    "X_train = scaler.fit_transform(X_train) # fit_transform only acts on training data\n",
    "X_test = scaler.transform(X_test) # transform only on test data"
   ]
  },
  {
   "cell_type": "code",
   "execution_count": 4,
   "metadata": {
    "scrolled": true
   },
   "outputs": [
    {
     "data": {
      "text/plain": [
       "KNN(algorithm='auto', contamination=0.1, leaf_size=30, method='largest',\n",
       "  metric='minkowski', metric_params=None, n_jobs=1, n_neighbors=5, p=2,\n",
       "  radius=1.0)"
      ]
     },
     "execution_count": 4,
     "metadata": {},
     "output_type": "execute_result"
    }
   ],
   "source": [
    "# Fit kNN algorithm\n",
    "clf_name = 'KNN'\n",
    "clf = KNN()\n",
    "clf.fit(X_train) #pyod does not need any parameters (optional) as compared to sklearn"
   ]
  },
  {
   "cell_type": "code",
   "execution_count": 10,
   "metadata": {
    "scrolled": true
   },
   "outputs": [
    {
     "name": "stdout",
     "output_type": "stream",
     "text": [
      "\n",
      "On Training Data:\n",
      "KNN ROC:0.9506, precision @ rank n:0.232\n",
      "\n",
      "On Test Data:\n",
      "KNN ROC:0.9339, precision @ rank n:0.1387\n"
     ]
    }
   ],
   "source": [
    "# get the prediction labels and outlier scores of the training data\n",
    "y_train_pred = clf.labels_  # binary labels (0: inliers, 1: outliers)\n",
    "y_train_scores = clf.decision_scores_  # Outliers tend to have higher scores\n",
    "\n",
    "# get the prediction on the test data\n",
    "y_test_pred = clf.predict(X_test)  # outlier labels (0 or 1)\n",
    "y_test_scores = clf.decision_function(X_test)  # outlier scores\n",
    "\n",
    "# evaluate and print the results\n",
    "print(\"\\nOn Training Data:\")\n",
    "evaluate_print(clf_name, y_train, y_train_scores)\n",
    "print(\"\\nOn Test Data:\")\n",
    "evaluate_print(clf_name, y_test, y_test_scores)"
   ]
  },
  {
   "cell_type": "code",
   "execution_count": 7,
   "metadata": {},
   "outputs": [
    {
     "name": "stdout",
     "output_type": "stream",
     "text": [
      "Total anomalous data:  11196\n",
      "Total normal data:  102727\n"
     ]
    }
   ],
   "source": [
    "# use sample of the dataset \n",
    "sum_anomalousData = sum(y_test_pred==1) \n",
    "print(\"Total anomalous data: \",sum_anomalousData)\n",
    "Sum_normalData = sum(y_test_pred==0) \n",
    "print(\"Total normal data: \",Sum_normalData)"
   ]
  },
  {
   "cell_type": "code",
   "execution_count": 8,
   "metadata": {},
   "outputs": [
    {
     "name": "stdout",
     "output_type": "stream",
     "text": [
      "Accuracy: 0.9027\n",
      "Precision: 0.0128\n",
      "Recall: 0.8266\n",
      "F1: 0.0252\n"
     ]
    }
   ],
   "source": [
    "from sklearn import metrics\n",
    "print('Accuracy: {:.4f}'.format(metrics.accuracy_score(y_test, y_test_pred)))\n",
    "print('Precision: {:.4f}'.format(metrics.precision_score(y_test, y_test_pred))) # Not all the positive ones were true\n",
    "print('Recall: {:.4f}'.format(metrics.recall_score(y_test, y_test_pred)))# It found many positive\n",
    "print('F1: {:.4f}'.format(metrics.f1_score(y_test, y_test_pred)))"
   ]
  },
  {
   "cell_type": "code",
   "execution_count": null,
   "metadata": {},
   "outputs": [],
   "source": [
    "Accuracy: 0.8314\n",
    "Precision: 0.0093\n",
    "Recall: 0.9126\n",
    "F1: 0.0184"
   ]
  }
 ],
 "metadata": {
  "kernelspec": {
   "display_name": "Python 3",
   "language": "python",
   "name": "python3"
  },
  "language_info": {
   "codemirror_mode": {
    "name": "ipython",
    "version": 3
   },
   "file_extension": ".py",
   "mimetype": "text/x-python",
   "name": "python",
   "nbconvert_exporter": "python",
   "pygments_lexer": "ipython3",
   "version": "3.8.5"
  }
 },
 "nbformat": 4,
 "nbformat_minor": 4
}
