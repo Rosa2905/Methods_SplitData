{
 "cells": [
  {
   "cell_type": "code",
   "execution_count": 77,
   "metadata": {},
   "outputs": [],
   "source": [
    "#This project presents two options for testing data splitting through the \"LeaveOneOut\" method and using KNN Sklearn\n",
    "\n",
    "from sklearn.metrics import accuracy_score\n",
    "from sklearn import model_selection\n",
    "from sklearn.model_selection import cross_val_score\n",
    "from sklearn.neighbors import KNeighborsClassifier\n",
    "from sklearn.model_selection import LeaveOneOut #LeaveOneOut() is equivalent to KFold(n_splits=n) and LeavePOut(p=1) where n is the number of samples"
   ]
  },
  {
   "cell_type": "code",
   "execution_count": 78,
   "metadata": {},
   "outputs": [],
   "source": [
    "comprar_alquilar = pd.read_csv(r\"C:\\Users\\RosaS\\Desktop\\Datasets_Limpios\\comprar_alquilar.csv\")\n",
    "comprar_alquilar_df=comprar_alquilar.iloc[:,0:8].values\n",
    "comprar_alquilar_y=comprar_alquilar.iloc[:,9].values\n",
    "comprar_alquilar_names=[\"ingresos\",\"gastos_comunes\",\"pago_coche\",\"gastos_otros\",\"ahorros\",\"vivienda\",\"estado_civil\",\"hijos\",\"trabajo\"]\n",
    "comprar_alquilar_target_names=[\"0\",\"1\"]"
   ]
  },
  {
   "cell_type": "code",
   "execution_count": 79,
   "metadata": {},
   "outputs": [],
   "source": [
    "#==== First Option \n",
    "\n",
    "def split_LeaveOneOut_firstOption():\n",
    "    print(\"----------------- LeaveOneOut -------\\n\")\n",
    "    X = comprar_alquilar_df\n",
    "    y = comprar_alquilar_y\n",
    "    loocv = LeaveOneOut()\n",
    "    y_true, y_predict = list(),list()\n",
    "    \n",
    "    print(\"\\n---- Modelo:  KNN\",\"\\n\")   \n",
    "    \n",
    "    for train_index, test_index in loocv.split(X): \n",
    "        print(\"TRAIN:\", train_index, \"TEST:\", test_index)\n",
    "        X_train, X_test = X[train_index], X[test_index]\n",
    "        y_train, y_test = y[train_index], y[test_index]\n",
    "        #print(X_train, X_test, y_train, y_test)\n",
    "        \n",
    "        #TRAIN MODEL\n",
    "        KNN=KNeighborsClassifier(7)\n",
    "        KNN.fit(X_train,y_train)\n",
    "        \n",
    "        #PREDICT\n",
    "        model_predictions = KNN.predict(X_test)\n",
    "        y_true.append(y_test[0])\n",
    "        y_pred.append(model_predictions[0])\n",
    "        \n",
    "    #GET PERFORMANCE    \n",
    "    acc = accuracy_score(y_true, y_pred)\n",
    "    print('Accuracy: %.3f' % acc)"
   ]
  },
  {
   "cell_type": "code",
   "execution_count": 80,
   "metadata": {},
   "outputs": [],
   "source": [
    "#==== Second Option \n",
    "from numpy import mean\n",
    "from numpy import std\n",
    "\n",
    "def LeaveOneOut_secondOption():\n",
    "\n",
    "    print(\"----------------- LeaveOneOut -------\\n\")\n",
    "    X = comprar_alquilar_df\n",
    "    y = comprar_alquilar_y\n",
    "    loocv = LeaveOneOut()\n",
    "\n",
    "    print(\"\\n---- Modelo:  KNN\",\"\\n\")   \n",
    "\n",
    "    # create model\n",
    "    KNN=KNeighborsClassifier(7)\n",
    "    # evaluate model\n",
    "    scores = cross_val_score(KNN, X, y, scoring='accuracy', cv=loocv, n_jobs=-1)\n",
    "    # Get performance\n",
    "    print('Accuracy: %.3f (%.3f)' % (mean(scores), std(scores)))"
   ]
  },
  {
   "cell_type": "code",
   "execution_count": 81,
   "metadata": {
    "scrolled": false
   },
   "outputs": [
    {
     "name": "stdout",
     "output_type": "stream",
     "text": [
      "\n",
      "=====================    Dataset :  comprar_alquilar====================\n",
      "\n",
      "----------------- LeaveOneOut -------\n",
      "\n",
      "\n",
      "---- Modelo:  KNN \n",
      "\n",
      "TRAIN: [  1   2   3   4   5   6   7   8   9  10  11  12  13  14  15  16  17  18\n",
      "  19  20  21  22  23  24  25  26  27  28  29  30  31  32  33  34  35  36\n",
      "  37  38  39  40  41  42  43  44  45  46  47  48  49  50  51  52  53  54\n",
      "  55  56  57  58  59  60  61  62  63  64  65  66  67  68  69  70  71  72\n",
      "  73  74  75  76  77  78  79  80  81  82  83  84  85  86  87  88  89  90\n",
      "  91  92  93  94  95  96  97  98  99 100 101 102 103 104 105 106 107 108\n",
      " 109 110 111 112 113 114 115 116 117 118 119 120 121 122 123 124 125 126\n",
      " 127 128 129 130 131 132 133 134 135 136 137 138 139 140 141 142 143 144\n",
      " 145 146 147 148 149 150 151 152 153 154 155 156 157 158 159 160 161 162\n",
      " 163 164 165 166 167 168 169 170 171 172 173 174 175 176 177 178 179 180\n",
      " 181 182 183 184 185 186 187 188 189 190 191 192 193 194 195 196 197 198\n",
      " 199 200 201] TEST: [0]\n"
     ]
    },
    {
     "ename": "NameError",
     "evalue": "name 'y_pred' is not defined",
     "output_type": "error",
     "traceback": [
      "\u001b[1;31m---------------------------------------------------------------------------\u001b[0m",
      "\u001b[1;31mNameError\u001b[0m                                 Traceback (most recent call last)",
      "\u001b[1;32m<ipython-input-81-b9e9e108468e>\u001b[0m in \u001b[0;36m<module>\u001b[1;34m\u001b[0m\n\u001b[0;32m      8\u001b[0m     \u001b[1;31m#Testing Performance - Option 2\u001b[0m\u001b[1;33m\u001b[0m\u001b[1;33m\u001b[0m\u001b[1;33m\u001b[0m\u001b[0m\n\u001b[0;32m      9\u001b[0m     \u001b[0mLeaveOneOut_secondOption\u001b[0m\u001b[1;33m(\u001b[0m\u001b[1;33m)\u001b[0m\u001b[1;33m\u001b[0m\u001b[1;33m\u001b[0m\u001b[0m\n\u001b[1;32m---> 10\u001b[1;33m \u001b[0mmain\u001b[0m\u001b[1;33m(\u001b[0m\u001b[1;33m)\u001b[0m\u001b[1;33m\u001b[0m\u001b[1;33m\u001b[0m\u001b[0m\n\u001b[0m",
      "\u001b[1;32m<ipython-input-81-b9e9e108468e>\u001b[0m in \u001b[0;36mmain\u001b[1;34m()\u001b[0m\n\u001b[0;32m      3\u001b[0m \u001b[1;33m\u001b[0m\u001b[0m\n\u001b[0;32m      4\u001b[0m     \u001b[1;31m#Testing Performance - Option 1\u001b[0m\u001b[1;33m\u001b[0m\u001b[1;33m\u001b[0m\u001b[1;33m\u001b[0m\u001b[0m\n\u001b[1;32m----> 5\u001b[1;33m     \u001b[0msplit_LeaveOneOut_firstOption\u001b[0m\u001b[1;33m(\u001b[0m\u001b[1;33m)\u001b[0m\u001b[1;33m\u001b[0m\u001b[1;33m\u001b[0m\u001b[0m\n\u001b[0m\u001b[0;32m      6\u001b[0m \u001b[1;33m\u001b[0m\u001b[0m\n\u001b[0;32m      7\u001b[0m \u001b[1;33m\u001b[0m\u001b[0m\n",
      "\u001b[1;32m<ipython-input-79-db908103a55e>\u001b[0m in \u001b[0;36msplit_LeaveOneOut_firstOption\u001b[1;34m()\u001b[0m\n\u001b[0;32m     23\u001b[0m         \u001b[0mmodel_predictions\u001b[0m \u001b[1;33m=\u001b[0m \u001b[0mKNN\u001b[0m\u001b[1;33m.\u001b[0m\u001b[0mpredict\u001b[0m\u001b[1;33m(\u001b[0m\u001b[0mX_test\u001b[0m\u001b[1;33m)\u001b[0m\u001b[1;33m\u001b[0m\u001b[1;33m\u001b[0m\u001b[0m\n\u001b[0;32m     24\u001b[0m         \u001b[0my_true\u001b[0m\u001b[1;33m.\u001b[0m\u001b[0mappend\u001b[0m\u001b[1;33m(\u001b[0m\u001b[0my_test\u001b[0m\u001b[1;33m[\u001b[0m\u001b[1;36m0\u001b[0m\u001b[1;33m]\u001b[0m\u001b[1;33m)\u001b[0m\u001b[1;33m\u001b[0m\u001b[1;33m\u001b[0m\u001b[0m\n\u001b[1;32m---> 25\u001b[1;33m         \u001b[0my_pred\u001b[0m\u001b[1;33m.\u001b[0m\u001b[0mappend\u001b[0m\u001b[1;33m(\u001b[0m\u001b[0mmodel_predictions\u001b[0m\u001b[1;33m[\u001b[0m\u001b[1;36m0\u001b[0m\u001b[1;33m]\u001b[0m\u001b[1;33m)\u001b[0m\u001b[1;33m\u001b[0m\u001b[1;33m\u001b[0m\u001b[0m\n\u001b[0m\u001b[0;32m     26\u001b[0m \u001b[1;33m\u001b[0m\u001b[0m\n\u001b[0;32m     27\u001b[0m     \u001b[1;31m#GET PERFORMANCE\u001b[0m\u001b[1;33m\u001b[0m\u001b[1;33m\u001b[0m\u001b[1;33m\u001b[0m\u001b[0m\n",
      "\u001b[1;31mNameError\u001b[0m: name 'y_pred' is not defined"
     ]
    }
   ],
   "source": [
    "def main():\n",
    "    print(\"\\n=====================    Dataset :  comprar_alquilar====================\\n\")\n",
    "    \n",
    "    #Testing Performance - Option 1\n",
    "    split_LeaveOneOut_firstOption()\n",
    "    \n",
    "    \n",
    "    #Testing Performance - Option 2\n",
    "    LeaveOneOut_secondOption()\n",
    "main()"
   ]
  }
 ],
 "metadata": {
  "kernelspec": {
   "display_name": "Python 3",
   "language": "python",
   "name": "python3"
  },
  "language_info": {
   "codemirror_mode": {
    "name": "ipython",
    "version": 3
   },
   "file_extension": ".py",
   "mimetype": "text/x-python",
   "name": "python",
   "nbconvert_exporter": "python",
   "pygments_lexer": "ipython3",
   "version": "3.8.5"
  }
 },
 "nbformat": 4,
 "nbformat_minor": 2
}
